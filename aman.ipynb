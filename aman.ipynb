{
 "cells": [
  {
   "cell_type": "markdown",
   "metadata": {},
   "source": [
    "# SIEMENS\n",
    "# (Machine Learning)\n",
    "Author: Aman Kumar Jain                                                                \n",
    " Email: jainamandelhi@gmail.com\n",
    "\n",
    "Contact: 9810900824\n",
    "\n",
    "College: Delhi Technological University     \n",
    "\n",
    "Code Link:https://drive.google.com/open?id=1_75azB0rSWuJkUda86FNjEz-T9xVaQCC"
   ]
  },
  {
   "cell_type": "code",
   "execution_count": 1,
   "metadata": {},
   "outputs": [
    {
     "data": {
      "image/png": "[encoded data removed]",
      "text/plain": [
       "<PIL.PngImagePlugin.PngImageFile image mode=P size=286x176 at 0x25DFA60B240>"
      ]
     },
     "execution_count": 1,
     "metadata": {},
     "output_type": "execute_result"
    }
   ],
   "source": [
    "from PIL import Image\n",
    "im = Image.open('download.png')\n",
    "from io import BytesIO\n",
    "buffer = BytesIO()\n",
    "im.save(buffer, format='png')\n",
    "im"
   ]
  },
  {
   "cell_type": "markdown",
   "metadata": {},
   "source": [
    ".............................................................................................................................."
   ]
  },
  {
   "cell_type": "markdown",
   "metadata": {},
   "source": [
    "# 1.\tINTRODUCTION\n",
    "The project is about analyzing a power plant dataset and finding the best fit component among the dataset to tag the value. Aim of the project is to make this tagging accurate and quick. Statistical concepts are used. Code is written in python.\n"
   ]
  },
  {
   "cell_type": "markdown",
   "metadata": {},
   "source": [
    "# 2. OVERVIEW\n",
    "The dataset is first cleaned and studied. Then the components are segregated into separate lists based on the classes they belong to. For ex all the components describing temperature are pushed into one list, pressure ones are pushed into another list and so on. Units of the classes are converted according to the need and Student’s t-test is applied after taking the data as close to normality to find the suitable tag. \n",
    "\n",
    " ##### Statistical concepts used- mean, variance, range, skewness, kurtosis, parametric and non-parametric tests, normality, student’s t-test, t-statistic, p-value etc.\n",
    " \n",
    " Fig 1 is the histogram representation of the data of \"MAIN STEAM PRESS 2\". Fig 2 is obtained after removing the noise and unwanted data from Fig 1 to take data close to normality as much as possible for applying suitable test."
   ]
  },
  {
   "cell_type": "code",
   "execution_count": 18,
   "metadata": {},
   "outputs": [
    {
     "data": {
      "image/png": "[encoded data removed]",
      "text/plain": [
       "<Figure size 432x288 with 1 Axes>"
      ]
     },
     "metadata": {},
     "output_type": "display_data"
    }
   ],
   "source": [
    "\n",
    "import matplotlib.pyplot as plt\n",
    "value=27\n",
    "var=dataset[MPa[0]]\n",
    "var.hist(bins=100)\n",
    "plt.title('Fig 1')\n",
    "plt.xlabel('Pressure')\n",
    "plt.ylabel('Frequency')\n",
    "plt.show()"
   ]
  },
  {
   "cell_type": "code",
   "execution_count": 19,
   "metadata": {},
   "outputs": [
    {
     "data": {
      "image/png": "[encoded data removed]",
      "text/plain": [
       "<Figure size 432x288 with 1 Axes>"
      ]
     },
     "metadata": {},
     "output_type": "display_data"
    }
   ],
   "source": [
    "var=dataset[MPa[0]]\n",
    "var_range=(float(max(var))-float(min(var)))\n",
    "var_range/=2\n",
    "var=var[(var>value-var_range) & (var<value+var_range)]\n",
    "var.hist(bins=100)\n",
    "plt.title('Fig 2')\n",
    "plt.xlabel('Pressure')\n",
    "plt.ylabel('Frequency')\n",
    "plt.show()"
   ]
  },
  {
   "cell_type": "markdown",
   "metadata": {},
   "source": [
    "## 3. DATASET\n",
    "The dataset is provided by Siemens. It is about a powerplant in which rows are the time and columns are the components of the power plant.\n",
    "\n",
    "\n",
    "There are missing values and string values (0?) which are cleaned and taken care of. Some of the numeric values are saved as string which are converted into float and some entities have incorrect values which are not considered in the analysis.\n",
    "\n",
    "The dataset gives the values of all the components (213 columns) taken at every minute in a day ( 1446 rows). There are total 307,998 instances.\n",
    "\n"
   ]
  },
  {
   "cell_type": "markdown",
   "metadata": {},
   "source": [
    ".................................................................................................................................."
   ]
  },
  {
   "cell_type": "markdown",
   "metadata": {},
   "source": [
    "# NOTE: RUN 4-7 ONLY ONCE FOR ONE DATASET AS THEY TAKE 15-20 MINUTES TO COMPILE. "
   ]
  },
  {
   "cell_type": "markdown",
   "metadata": {},
   "source": [
    "...................................................................................................................................."
   ]
  },
  {
   "cell_type": "markdown",
   "metadata": {},
   "source": [
    "## 4. IMPORT LIBRARIES"
   ]
  },
  {
   "cell_type": "code",
   "execution_count": 4,
   "metadata": {},
   "outputs": [],
   "source": [
    "import pandas as pd\n",
    "import numpy as np\n",
    "import scipy.stats as scs\n",
    "from scipy.stats import kurtosis, skew"
   ]
  },
  {
   "cell_type": "markdown",
   "metadata": {},
   "source": [
    "## 5. READ THE DATASET"
   ]
  },
  {
   "cell_type": "code",
   "execution_count": 5,
   "metadata": {},
   "outputs": [],
   "source": [
    "dataset=pd.read_csv('project.csv')\n"
   ]
  },
  {
   "cell_type": "markdown",
   "metadata": {},
   "source": [
    "## 6. REPLACE THE UNWANTED VALUES WITH NaN"
   ]
  },
  {
   "cell_type": "code",
   "execution_count": 6,
   "metadata": {},
   "outputs": [],
   "source": [
    "def func (dataset):\n",
    "    for i in range(0,1445):\n",
    "        for j in range(1,212):\n",
    "            if (type(dataset.iloc[i,j])==str):\n",
    "                dataset=dataset.replace(dataset.iloc[i,j], np.nan)\n",
    "    return dataset\n",
    "\n",
    "dataset=func(dataset)"
   ]
  },
  {
   "cell_type": "markdown",
   "metadata": {},
   "source": [
    "## 7. CONVERT NUMERIC STRING VALUES TO FLOAT"
   ]
  },
  {
   "cell_type": "code",
   "execution_count": 7,
   "metadata": {},
   "outputs": [],
   "source": [
    "\n",
    "def func1 (dataset):\n",
    "    for i in range(0,1445):\n",
    "        for j in range(1,212):\n",
    "            dataset.iloc[i,j]=float(dataset.iloc[i,j])\n",
    "    return dataset\n",
    "\n",
    "dataset=func1(dataset)\n"
   ]
  },
  {
   "cell_type": "markdown",
   "metadata": {},
   "source": [
    "## 8. SEGREGATE ENTITIES BASED ON THEIR RESPECTIVE CLASSES"
   ]
  },
  {
   "cell_type": "code",
   "execution_count": 8,
   "metadata": {},
   "outputs": [],
   "source": [
    "headers=list(dataset.columns.values)\n",
    "rpm=[]\n",
    "MW=[]\n",
    "Thr=[]\n",
    "MPa=[]\n",
    "perc=[]\n",
    "temperature=[]\n",
    "Pa=[]\n",
    "A=[]\n",
    "V=[]\n",
    "mm=[]\n",
    "def seggregate(features_list):\n",
    "    p=0\n",
    "    for i in range(len(features_list)):\n",
    "        x = ''\n",
    "        y = ''\n",
    "        z = ''\n",
    "        w = ''\n",
    "        if (len(features_list[p].split(\"(\"))==2):\n",
    "            y,z=features_list[p].split(\"(\")\n",
    "            \n",
    "        elif(len(features_list[p].split(\"(\"))==3):\n",
    "            x,y,z=features_list[p].split(\"(\")\n",
    "        \n",
    "        elif(len(features_list[p].split(\"(\"))==4):\n",
    "            w,x,v,z=features_list[p].split(\"(\")\n",
    "        \n",
    "        else:\n",
    "            p=p+1\n",
    "            continue  \n",
    "        \n",
    "        if(z=='rpm)'):\n",
    "            rpm.append(features_list[p])\n",
    "            features_list.pop(p)\n",
    "     \n",
    "        if(z=='MW)' or z=='MW).1' or z=='Mvar)'):\n",
    "            MW.append(features_list[p])\n",
    "            features_list.pop(p)\n",
    "\n",
    "        if(z=='T/hr)' or z=='T/hr).1' or z=='T/hr) '):\n",
    "            Thr.append(features_list[p])\n",
    "            features_list.pop(p)\n",
    "         \n",
    "        if(z=='MPa)' or z=='Mpa)'):\n",
    "            MPa.append(features_list[p])\n",
    "            features_list.pop(p)\n",
    "         \n",
    "        if(z=='%)'):\n",
    "            perc.append(features_list[p])\n",
    "            features_list.pop(p)\n",
    "           \n",
    "        if(z=='Ce)' or z=='Centigrade)' or z=='GENERATOR END) (Ce)' or  z=='Ce).1' or z==' Ce)' or z=='C)'):\n",
    "            temperature.append(features_list[p])\n",
    "            features_list.pop(p)\n",
    "           \n",
    "        if(z=='Pa)' or z=='TURBINE END) (Pa)' or z=='Pa).1' or z=='pa)'):\n",
    "            Pa.append(features_list[p])\n",
    "            features_list.pop(p)\n",
    "            \n",
    "        if(z=='A)'):\n",
    "            A.append(features_list[p])\n",
    "            features_list.pop(p)\n",
    "\n",
    "        if(z=='V)'):\n",
    "            V.append(features_list[p])\n",
    "            features_list.pop(p)\n",
    "          \n",
    "        if(z=='mm)'):\n",
    "            mm.append(features_list[p])\n",
    "            features_list.pop(p)\n",
    "\n",
    "seggregate(headers)"
   ]
  },
  {
   "cell_type": "markdown",
   "metadata": {},
   "source": [
    "## 9. FUNCTION FOR T-TEST TO FIND THE BEST FIT ATTRIBUTE"
   ]
  },
  {
   "cell_type": "code",
   "execution_count": 9,
   "metadata": {},
   "outputs": [],
   "source": [
    "def t_test(sample, mu):\n",
    "    mean = np.mean(sample)\n",
    "    var = np.var(sample, ddof = 1) \n",
    "    sem = (var / len(sample)) ** .5\n",
    "    t = abs(mu - mean)/sem\n",
    "    df = len(sample) - 1\n",
    "    p = 2*(1-scs.t.cdf(t, df))\n",
    "    return (t, p)"
   ]
  },
  {
   "cell_type": "markdown",
   "metadata": {},
   "source": [
    "## 10. CONVERT THE UNITS\n",
    "Temperature units ( Fahrenheit, Celcius, Kelvin) and Pressure units (Pascal, MPa, KPa, Torr, T/hr, ATM, Bar) are converted into each other.\n"
   ]
  },
  {
   "cell_type": "code",
   "execution_count": 10,
   "metadata": {},
   "outputs": [],
   "source": [
    "def KELtoCEL(value):\n",
    "    return value-273.15\n",
    "\n",
    "def CELtoKEL(value):\n",
    "    return value+273.15\n",
    "\n",
    "def CELtoFAR(value):\n",
    "    return(9*value/5)+32\n",
    "\n",
    "def FARtoCEL(value):\n",
    "    return 5*(value-32)/9\n",
    "\n",
    "def FARtoKEL(value):\n",
    "    value=FARtoCEL(value)\n",
    "    return CELtoKEL(value)\n",
    "\n",
    "def KELtoFAR(value):\n",
    "    value=KELtoCEL(value)\n",
    "    return CELtoFAR(value)\n",
    "\n",
    "def PAStoBAR(value):\n",
    "    return (value)/100000\n",
    "\n",
    "def PAStoATM(value):\n",
    "    value=PAStoBAR(value)\n",
    "    return BARtoATM(value)\n",
    "\n",
    "def PAStoTOR(value):\n",
    "    value=PAStoBAR(value)\n",
    "    return BARtoTOR(value)\n",
    "\n",
    "def PAStoMPA(value):\n",
    "    return value/1000000\n",
    "\n",
    "def PAStoKPA(value):\n",
    "    return value/1000\n",
    "\n",
    "def PAStoKGC(value):\n",
    "    return value*1.0197/100000\n",
    "\n",
    "def ATMtoBAR(value):\n",
    "    return  value*1.01325\n",
    "\n",
    "def ATMtoPAS(value):\n",
    "    return value*101325\n",
    "\n",
    "def ATMtoTOR(value):\n",
    "    return value*760\n",
    "\n",
    "def ATMtoMPA(value):\n",
    "    value=ATMtoPAS(value)\n",
    "    return PAStoMPA(value)\n",
    "\n",
    "def ATMtoKPA(value):\n",
    "    value=ATMtoPAS(value)\n",
    "    return PAStoKPA(value)\n",
    "\n",
    "def ATMtoKGC(value):\n",
    "    value=ATMtoPAS(value)\n",
    "    return PAStoKGC(value)\n",
    "\n",
    "def BARtoATM(value):\n",
    "    return value/1.01325\n",
    "\n",
    "def BARtoPAS(value):\n",
    "    value=BARtoATM(value)\n",
    "    return ATMtoPAS(value)\n",
    "\n",
    "def BARtoTOR(value):\n",
    "    value=BARtoATM(value)\n",
    "    return ATMtoTOR(value)\n",
    "\n",
    "def BARtoMPA(value):\n",
    "    value=BARtoPAS(value)\n",
    "    return PAStoMPA(value)\n",
    "\n",
    "def BARtoKPA(value):\n",
    "    value=BARtoPAS(value)\n",
    "    return PAStoKPA(value)\n",
    "\n",
    "def BARtoKGC(value):\n",
    "    value=BARtoPAS(value)\n",
    "    return PAStoKGC(value)\n",
    "\n",
    "def MPAtoPAS(value):\n",
    "    return value*1000000\n",
    "\n",
    "def MPAtoATM(value):\n",
    "    value=MPAtoPAS(value)\n",
    "    return PAStoATM(value)\n",
    "\n",
    "def MPAtoTOR(value):\n",
    "    value=MPAtoPAS(value)\n",
    "    return PAStoTOR(value)\n",
    "\n",
    "def MPAtoBAR(value):\n",
    "    value=MPAtoPAS(value)\n",
    "    return PAStoBAR(value)\n",
    "\n",
    "def MPAtoKPA(value):\n",
    "    return value/1000\n",
    "\n",
    "def MPAtoKGC(value):\n",
    "    value=MPAtoPAS(value)\n",
    "    return PAStoKGC(value)\n",
    "\n",
    "def KPAtoPAS(value):\n",
    "    return value*1000\n",
    "\n",
    "def KPAtoATM(value):\n",
    "    value=KPAtoPAS;\n",
    "    return PAStoATM(value)\n",
    "\n",
    "def KPAtoTOR(value):\n",
    "    value=KPAtoPAS(value)\n",
    "    return PAStoTOR(value)\n",
    "\n",
    "def KPAtoMPA(value):\n",
    "    return value/1000\n",
    "\n",
    "def KPAtoBAR(value):\n",
    "    value=KPAtoPAS(value)\n",
    "    return PAStoBAR(value)\n",
    "\n",
    "def KPAtoKGC(value):\n",
    "    value=KPAtoPAS(value)\n",
    "    return PAStoKGC(value)\n",
    "\n",
    "def KGCtoPAS(value):\n",
    "    return value*98066.5\n",
    "\n",
    "def KGCtoMPA(value):\n",
    "    value=KGCtoPAS(value)\n",
    "    return PAStoMPA(value)\n",
    "\n",
    "def KGCtoKPA(value):\n",
    "    value=KGCtoPAS(value)\n",
    "    return PAStoKPA(value)\n",
    "\n",
    "def KGCtoBAR(value):\n",
    "    value=KGCtoPAS(value)\n",
    "    return PAStoBAR(value)\n",
    "\n",
    "def KGCtoATM(value):\n",
    "    value=KGCtoPAS(value)\n",
    "    return PAStoATM(value)\n",
    "\n",
    "def KGCtoTOR(value):\n",
    "    value=KGCtoPAS(value)\n",
    "    return PAStoTOR(value)\n",
    "\n",
    "def TORtoPAS(value):\n",
    "    return value*133.322\n",
    "\n",
    "def TORtoMPA(value):\n",
    "    value=TORtoPAS(value)\n",
    "    return PAStoMPA(value)\n",
    "\n",
    "def TORtoKPA(value):\n",
    "    value=TORtoPAS(value)\n",
    "    return PAStoKPA(value)\n",
    "\n",
    "def TORtoBAR(value):\n",
    "    value=TORtoPAS(value)\n",
    "    return PAStoBAR(value)\n",
    "\n",
    "def TORtoATM(value):\n",
    "    value=TORtoPAS(value)\n",
    "    return PAStoATM(value)\n",
    "\n",
    "def TORtoKGC(value):\n",
    "    value=TORtoPAS(value)\n",
    "    return PAStoKGC(value)\n",
    "\n",
    "def temp(ini,fin,value):\n",
    "    if(ini=='KEL'):\n",
    "        if(fin=='FAR'):\n",
    "            return KELtoFAR(value)\n",
    "        else:\n",
    "            return KELtoCEL(value)  \n",
    "    elif(ini=='CEL'):\n",
    "        if(fin=='FAR'):\n",
    "            return CELtoFAR(value)\n",
    "        else:\n",
    "            return CELtoKEL(value)\n",
    "    elif(ini=='FAR'):\n",
    "        if(fin=='CEL'):\n",
    "            return FARtoCEL(value)\n",
    "        else:\n",
    "            return FARtoKEL(value)\n",
    "\n",
    "def press(ini,fin,value):\n",
    "    \n",
    "    if(ini=='PAS'):\n",
    "        if(fin=='KPA'):\n",
    "            return PAStoKPA(value)\n",
    "        elif(fin=='MPA'):\n",
    "            return PAStoMPA(value)\n",
    "        elif(fin=='BAR'):\n",
    "            return PAStoBAR(value)\n",
    "        elif(fin=='ATM'):\n",
    "            return PAStoATM(value)\n",
    "        elif(fin=='TOR'):\n",
    "            return PAStoTOR(value)\n",
    "        else:\n",
    "            return PAStoKGC(value)\n",
    "    \n",
    "    elif(ini=='KPA'):\n",
    "        if(fin=='PAS'):\n",
    "            return KPAtoPAS(value)\n",
    "        elif(fin=='MPA'):\n",
    "            return KPAtoMPA(value)\n",
    "        elif(fin=='BAR'):\n",
    "            return KPAtoBAR(value)\n",
    "        elif(fin=='ATM'):\n",
    "            return KPAtoATM(value)\n",
    "        elif(fin=='TOR'):\n",
    "            return KPAtoTOR(value)\n",
    "        else:\n",
    "            return KPAtoKGC(value)\n",
    "    \n",
    "    elif(ini=='MPA'):\n",
    "        if(fin=='PAS'):\n",
    "            return MPAtoPAS(value)\n",
    "        elif(fin=='KPA'):\n",
    "            return MPAtoKPA(value)\n",
    "        elif(fin=='BAR'):\n",
    "            return MPAtoBAR(value)\n",
    "        elif(fin=='ATM'):\n",
    "            return MPAtoATM(value)\n",
    "        elif(fin=='TOR'):\n",
    "            return MPAtoTOR(value)\n",
    "        else:\n",
    "            return MPAtoKGC(value)\n",
    "    \n",
    "    elif(ini=='BAR'):\n",
    "        if(fin=='PAS'):\n",
    "            return BARtoPAS(value)\n",
    "        elif(fin=='KPA'):\n",
    "            return BARtoKPA(value)\n",
    "        elif(fin=='MPA'):\n",
    "            return BARtoMPA(value)\n",
    "        elif(fin=='ATM'):\n",
    "            return BARtoATM(value)\n",
    "        elif(fin=='TOR'):\n",
    "            return BARtoTOR(value)\n",
    "        else:\n",
    "            return BARtoKGC(value)\n",
    "    \n",
    "    elif(ini=='ATM'):\n",
    "        if(fin=='PAS'):\n",
    "            return ATMtoPAS(value)\n",
    "        elif(fin=='KPA'):\n",
    "            return ATMtoKPA(value)\n",
    "        elif(fin=='MPA'):\n",
    "            return ATMtoMPA(value)\n",
    "        elif(fin=='BAR'):\n",
    "            return ATMtoBAR(value)\n",
    "        elif(fin=='TOR'):\n",
    "            return ATMtoTOR(value)\n",
    "        else:\n",
    "            return ATMtoKGC(value)\n",
    "    \n",
    "    elif(ini=='TOR'):\n",
    "        if(fin=='PAS'):\n",
    "            return TORtoPAS(value)\n",
    "        elif(fin=='KPA'):\n",
    "            return TORtoKPA(value)\n",
    "        elif(fin=='MPA'):\n",
    "            return TORtoMPA(value)\n",
    "        elif(fin=='ATM'):\n",
    "            return TORtoATM(value)\n",
    "        elif(fin=='BAR'):\n",
    "            return TORtoBAR(value)\n",
    "        else:\n",
    "            return TORtoKGC(value)\n",
    "    \n",
    "    elif(ini=='KGC'):\n",
    "        if(fin=='PAS'):\n",
    "            return KGCtoPAS(value)\n",
    "        elif(fin=='KPA'):\n",
    "            return KGCtoKPA(value)\n",
    "        elif(fin=='MPA'):\n",
    "            return KGCtoMPA(value)\n",
    "        elif(fin=='BAR'):\n",
    "            return KGCtoBAR(value)\n",
    "        elif(fin=='ATM'):\n",
    "            return KGCtoATM(value)\n",
    "        else:\n",
    "            return KGCtoTOR(value)\n"
   ]
  },
  {
   "cell_type": "markdown",
   "metadata": {},
   "source": [
    "## 11. MAIN FUNCTION DOING THE ANALYSIS"
   ]
  },
  {
   "cell_type": "code",
   "execution_count": 11,
   "metadata": {},
   "outputs": [],
   "source": [
    "def find(value,unit_func,dataset_unit,find_unit):\n",
    "    if(dataset_unit != find_unit):\n",
    "        if(unit_func==temperature):\n",
    "            value=temp(find_unit,dataset_unit,value)\n",
    "    var_range=0.0\n",
    "    t_final=100000000.0\n",
    "    i_final=0.0\n",
    "    p=0.0\n",
    "    for i in range(len(unit)):\n",
    "        var=dataset[unit[i]]\n",
    "        if (pd.isna(max(var))):\n",
    "            continue\n",
    "        var_range=(float(max(var))-float(min(var)))\n",
    "        var_range/=2\n",
    "        var=var[(var>value-var_range) & (var<value+var_range)]\n",
    "        if(len(var)==0):\n",
    "            continue\n",
    "        t_value,p_value=t_test(var,value)\n",
    "        if(t_value<t_final):\n",
    "            t_final=t_value\n",
    "            i_final=i\n",
    "            p=p_value\n",
    "    return i_final,t_final,p"
   ]
  },
  {
   "cell_type": "markdown",
   "metadata": {},
   "source": [
    "## NOTE: ONLY RUN 12 TO FIND THE REQUIRED TAG"
   ]
  },
  {
   "cell_type": "markdown",
   "metadata": {},
   "source": [
    "## 12. SOLUTION \n",
    "#### CHANGE THE VALUE, DATASET_UNIT, FIND_UNIT AND UNIT TO OBTAIN THE RESULT. BELOW IS AN EXAMPLE."
   ]
  },
  {
   "cell_type": "code",
   "execution_count": 27,
   "metadata": {},
   "outputs": [
    {
     "data": {
      "text/plain": [
       "'COLD REHEAT STEAM PIPE TOP METAL TEMP (Ce)'"
      ]
     },
     "execution_count": 27,
     "metadata": {},
     "output_type": "execute_result"
    }
   ],
   "source": [
    "value=326.88\n",
    "dataset_unit='CEL'\n",
    "find_unit='CEL'\n",
    "unit=temperature\n",
    "unit[find(value,unit,dataset_unit,find_unit)[0]]\n"
   ]
  },
  {
   "cell_type": "code",
   "execution_count": 28,
   "metadata": {},
   "outputs": [
    {
     "data": {
      "text/plain": [
       "(4, 3.037811739827918, 0.0024260406531182444)"
      ]
     },
     "execution_count": 28,
     "metadata": {},
     "output_type": "execute_result"
    }
   ],
   "source": [
    "find(value,unit,dataset_unit,find_unit)"
   ]
  },
  {
   "cell_type": "markdown",
   "metadata": {},
   "source": [
    "## Above obtained result tells that it can be said with 99.76% confidence that 326.88 C temperature will be of 'COLD REHEAT STEAM PIPE TOP METAL TEMP'."
   ]
  },
  {
   "cell_type": "code",
   "execution_count": 42,
   "metadata": {},
   "outputs": [
    {
     "data": {
      "image/png": "[encoded data removed]",
      "text/plain": [
       "<Figure size 432x288 with 1 Axes>"
      ]
     },
     "metadata": {},
     "output_type": "display_data"
    }
   ],
   "source": [
    "value=326.88\n",
    "var=dataset[temperature[4]]\n",
    "var_range=(float(max(var))-float(min(var)))\n",
    "var_range/=2\n",
    "var=var[(var>value-var_range) & (var<value+var_range)]\n",
    "var.hist(bins=100)\n",
    "plt.xlabel('Temperature')\n",
    "plt.ylabel('Frequency')\n",
    "plt.show()"
   ]
  },
  {
   "cell_type": "markdown",
   "metadata": {},
   "source": [
    "\n",
    "##### Such high confidence is obtained as the data is quite close to normal distribution.\n",
    "#### KURTOSIS= -0.21  SKEWNESS=0.46\n",
    "#### NORMAL DISTRIBUTION HAS KURTOSIS AND SKEWNESS EQUAL TO ZERO."
   ]
  }
 ],
 "metadata": {
  "kernelspec": {
   "display_name": "Python 3",
   "language": "python",
   "name": "python3"
  },
  "language_info": {
   "codemirror_mode": {
    "name": "ipython",
    "version": 3
   },
   "file_extension": ".py",
   "mimetype": "text/x-python",
   "name": "python",
   "nbconvert_exporter": "python",
   "pygments_lexer": "ipython3",
   "version": "3.6.5"
  }
 },
 "nbformat": 4,
 "nbformat_minor": 2
}
